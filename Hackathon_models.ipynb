{
 "cells": [
  {
   "cell_type": "code",
   "execution_count": 159,
   "metadata": {},
   "outputs": [],
   "source": [
    "import pandas as pd\n",
    "import numpy as np\n",
    "import matplotlib.pyplot as plt\n",
    "import seaborn as sns\n",
    "import datetime"
   ]
  },
  {
   "cell_type": "code",
   "execution_count": 160,
   "metadata": {},
   "outputs": [
    {
     "data": {
      "text/html": [
       "<div>\n",
       "<style scoped>\n",
       "    .dataframe tbody tr th:only-of-type {\n",
       "        vertical-align: middle;\n",
       "    }\n",
       "\n",
       "    .dataframe tbody tr th {\n",
       "        vertical-align: top;\n",
       "    }\n",
       "\n",
       "    .dataframe thead th {\n",
       "        text-align: right;\n",
       "    }\n",
       "</style>\n",
       "<table border=\"1\" class=\"dataframe\">\n",
       "  <thead>\n",
       "    <tr style=\"text-align: right;\">\n",
       "      <th></th>\n",
       "      <th>InvoiceNo</th>\n",
       "      <th>StockCode</th>\n",
       "      <th>Description</th>\n",
       "      <th>Quantity</th>\n",
       "      <th>InvoiceDate</th>\n",
       "      <th>UnitPrice</th>\n",
       "      <th>CustomerID</th>\n",
       "      <th>Country</th>\n",
       "    </tr>\n",
       "  </thead>\n",
       "  <tbody>\n",
       "    <tr>\n",
       "      <th>0</th>\n",
       "      <td>6141</td>\n",
       "      <td>1583</td>\n",
       "      <td>144</td>\n",
       "      <td>3</td>\n",
       "      <td>06-05-2011 16:54</td>\n",
       "      <td>3.75</td>\n",
       "      <td>14056</td>\n",
       "      <td>35</td>\n",
       "    </tr>\n",
       "    <tr>\n",
       "      <th>1</th>\n",
       "      <td>6349</td>\n",
       "      <td>1300</td>\n",
       "      <td>3682</td>\n",
       "      <td>6</td>\n",
       "      <td>11-05-2011 07:35</td>\n",
       "      <td>1.95</td>\n",
       "      <td>13098</td>\n",
       "      <td>35</td>\n",
       "    </tr>\n",
       "    <tr>\n",
       "      <th>2</th>\n",
       "      <td>16783</td>\n",
       "      <td>2178</td>\n",
       "      <td>1939</td>\n",
       "      <td>4</td>\n",
       "      <td>20-11-2011 13:20</td>\n",
       "      <td>5.95</td>\n",
       "      <td>15044</td>\n",
       "      <td>35</td>\n",
       "    </tr>\n",
       "    <tr>\n",
       "      <th>3</th>\n",
       "      <td>16971</td>\n",
       "      <td>2115</td>\n",
       "      <td>2983</td>\n",
       "      <td>1</td>\n",
       "      <td>22-11-2011 12:07</td>\n",
       "      <td>0.83</td>\n",
       "      <td>15525</td>\n",
       "      <td>35</td>\n",
       "    </tr>\n",
       "    <tr>\n",
       "      <th>4</th>\n",
       "      <td>6080</td>\n",
       "      <td>1210</td>\n",
       "      <td>2886</td>\n",
       "      <td>12</td>\n",
       "      <td>06-05-2011 09:00</td>\n",
       "      <td>1.65</td>\n",
       "      <td>13952</td>\n",
       "      <td>35</td>\n",
       "    </tr>\n",
       "  </tbody>\n",
       "</table>\n",
       "</div>"
      ],
      "text/plain": [
       "   InvoiceNo  StockCode  Description  Quantity       InvoiceDate  UnitPrice  \\\n",
       "0       6141       1583          144         3  06-05-2011 16:54       3.75   \n",
       "1       6349       1300         3682         6  11-05-2011 07:35       1.95   \n",
       "2      16783       2178         1939         4  20-11-2011 13:20       5.95   \n",
       "3      16971       2115         2983         1  22-11-2011 12:07       0.83   \n",
       "4       6080       1210         2886        12  06-05-2011 09:00       1.65   \n",
       "\n",
       "   CustomerID  Country  \n",
       "0       14056       35  \n",
       "1       13098       35  \n",
       "2       15044       35  \n",
       "3       15525       35  \n",
       "4       13952       35  "
      ]
     },
     "execution_count": 160,
     "metadata": {},
     "output_type": "execute_result"
    }
   ],
   "source": [
    "train_raw = pd.read_csv('Train.csv')\n",
    "train_raw.head()"
   ]
  },
  {
   "cell_type": "code",
   "execution_count": 161,
   "metadata": {},
   "outputs": [
    {
     "data": {
      "text/html": [
       "<div>\n",
       "<style scoped>\n",
       "    .dataframe tbody tr th:only-of-type {\n",
       "        vertical-align: middle;\n",
       "    }\n",
       "\n",
       "    .dataframe tbody tr th {\n",
       "        vertical-align: top;\n",
       "    }\n",
       "\n",
       "    .dataframe thead th {\n",
       "        text-align: right;\n",
       "    }\n",
       "</style>\n",
       "<table border=\"1\" class=\"dataframe\">\n",
       "  <thead>\n",
       "    <tr style=\"text-align: right;\">\n",
       "      <th></th>\n",
       "      <th>InvoiceNo</th>\n",
       "      <th>StockCode</th>\n",
       "      <th>Description</th>\n",
       "      <th>Quantity</th>\n",
       "      <th>InvoiceDate</th>\n",
       "      <th>UnitPrice</th>\n",
       "      <th>CustomerID</th>\n",
       "      <th>Country</th>\n",
       "    </tr>\n",
       "  </thead>\n",
       "  <tbody>\n",
       "    <tr>\n",
       "      <th>10046</th>\n",
       "      <td>17505</td>\n",
       "      <td>2388</td>\n",
       "      <td>3587</td>\n",
       "      <td>1</td>\n",
       "      <td>28-11-2011 14:30</td>\n",
       "      <td>2.08</td>\n",
       "      <td>13030</td>\n",
       "      <td>35</td>\n",
       "    </tr>\n",
       "    <tr>\n",
       "      <th>10509</th>\n",
       "      <td>15113</td>\n",
       "      <td>2175</td>\n",
       "      <td>100</td>\n",
       "      <td>5</td>\n",
       "      <td>01-11-2011 10:16</td>\n",
       "      <td>0.83</td>\n",
       "      <td>17377</td>\n",
       "      <td>35</td>\n",
       "    </tr>\n",
       "    <tr>\n",
       "      <th>10652</th>\n",
       "      <td>3421</td>\n",
       "      <td>2546</td>\n",
       "      <td>216</td>\n",
       "      <td>3</td>\n",
       "      <td>01-03-2011 13:51</td>\n",
       "      <td>0.21</td>\n",
       "      <td>15456</td>\n",
       "      <td>35</td>\n",
       "    </tr>\n",
       "    <tr>\n",
       "      <th>11965</th>\n",
       "      <td>11965</td>\n",
       "      <td>3108</td>\n",
       "      <td>195</td>\n",
       "      <td>6</td>\n",
       "      <td>11-09-2011 14:51</td>\n",
       "      <td>1.25</td>\n",
       "      <td>13611</td>\n",
       "      <td>35</td>\n",
       "    </tr>\n",
       "    <tr>\n",
       "      <th>13108</th>\n",
       "      <td>14321</td>\n",
       "      <td>2091</td>\n",
       "      <td>3029</td>\n",
       "      <td>1</td>\n",
       "      <td>19-10-2011 13:58</td>\n",
       "      <td>1.25</td>\n",
       "      <td>14704</td>\n",
       "      <td>35</td>\n",
       "    </tr>\n",
       "    <tr>\n",
       "      <th>...</th>\n",
       "      <td>...</td>\n",
       "      <td>...</td>\n",
       "      <td>...</td>\n",
       "      <td>...</td>\n",
       "      <td>...</td>\n",
       "      <td>...</td>\n",
       "      <td>...</td>\n",
       "      <td>...</td>\n",
       "    </tr>\n",
       "    <tr>\n",
       "      <th>284469</th>\n",
       "      <td>18025</td>\n",
       "      <td>2385</td>\n",
       "      <td>3308</td>\n",
       "      <td>1</td>\n",
       "      <td>04-12-2011 13:32</td>\n",
       "      <td>1.95</td>\n",
       "      <td>17936</td>\n",
       "      <td>35</td>\n",
       "    </tr>\n",
       "    <tr>\n",
       "      <th>284548</th>\n",
       "      <td>17342</td>\n",
       "      <td>1411</td>\n",
       "      <td>2583</td>\n",
       "      <td>1</td>\n",
       "      <td>25-11-2011 13:40</td>\n",
       "      <td>1.65</td>\n",
       "      <td>12748</td>\n",
       "      <td>35</td>\n",
       "    </tr>\n",
       "    <tr>\n",
       "      <th>284577</th>\n",
       "      <td>13222</td>\n",
       "      <td>1919</td>\n",
       "      <td>2721</td>\n",
       "      <td>2</td>\n",
       "      <td>03-10-2011 11:34</td>\n",
       "      <td>8.25</td>\n",
       "      <td>17321</td>\n",
       "      <td>35</td>\n",
       "    </tr>\n",
       "    <tr>\n",
       "      <th>284723</th>\n",
       "      <td>385</td>\n",
       "      <td>285</td>\n",
       "      <td>67</td>\n",
       "      <td>2</td>\n",
       "      <td>05-12-2010 15:12</td>\n",
       "      <td>1.25</td>\n",
       "      <td>15889</td>\n",
       "      <td>35</td>\n",
       "    </tr>\n",
       "    <tr>\n",
       "      <th>284744</th>\n",
       "      <td>16433</td>\n",
       "      <td>2404</td>\n",
       "      <td>1550</td>\n",
       "      <td>1</td>\n",
       "      <td>16-11-2011 13:40</td>\n",
       "      <td>4.25</td>\n",
       "      <td>16204</td>\n",
       "      <td>35</td>\n",
       "    </tr>\n",
       "  </tbody>\n",
       "</table>\n",
       "<p>2621 rows × 8 columns</p>\n",
       "</div>"
      ],
      "text/plain": [
       "        InvoiceNo  StockCode  Description  Quantity       InvoiceDate  \\\n",
       "10046       17505       2388         3587         1  28-11-2011 14:30   \n",
       "10509       15113       2175          100         5  01-11-2011 10:16   \n",
       "10652        3421       2546          216         3  01-03-2011 13:51   \n",
       "11965       11965       3108          195         6  11-09-2011 14:51   \n",
       "13108       14321       2091         3029         1  19-10-2011 13:58   \n",
       "...           ...        ...          ...       ...               ...   \n",
       "284469      18025       2385         3308         1  04-12-2011 13:32   \n",
       "284548      17342       1411         2583         1  25-11-2011 13:40   \n",
       "284577      13222       1919         2721         2  03-10-2011 11:34   \n",
       "284723        385        285           67         2  05-12-2010 15:12   \n",
       "284744      16433       2404         1550         1  16-11-2011 13:40   \n",
       "\n",
       "        UnitPrice  CustomerID  Country  \n",
       "10046        2.08       13030       35  \n",
       "10509        0.83       17377       35  \n",
       "10652        0.21       15456       35  \n",
       "11965        1.25       13611       35  \n",
       "13108        1.25       14704       35  \n",
       "...           ...         ...      ...  \n",
       "284469       1.95       17936       35  \n",
       "284548       1.65       12748       35  \n",
       "284577       8.25       17321       35  \n",
       "284723       1.25       15889       35  \n",
       "284744       4.25       16204       35  \n",
       "\n",
       "[2621 rows x 8 columns]"
      ]
     },
     "execution_count": 161,
     "metadata": {},
     "output_type": "execute_result"
    }
   ],
   "source": [
    "train_raw[train_raw.duplicated()]"
   ]
  },
  {
   "cell_type": "code",
   "execution_count": 162,
   "metadata": {},
   "outputs": [],
   "source": [
    "train_raw.drop_duplicates(keep = 'first', inplace = True)"
   ]
  },
  {
   "cell_type": "code",
   "execution_count": 163,
   "metadata": {},
   "outputs": [
    {
     "data": {
      "text/html": [
       "<div>\n",
       "<style scoped>\n",
       "    .dataframe tbody tr th:only-of-type {\n",
       "        vertical-align: middle;\n",
       "    }\n",
       "\n",
       "    .dataframe tbody tr th {\n",
       "        vertical-align: top;\n",
       "    }\n",
       "\n",
       "    .dataframe thead th {\n",
       "        text-align: right;\n",
       "    }\n",
       "</style>\n",
       "<table border=\"1\" class=\"dataframe\">\n",
       "  <thead>\n",
       "    <tr style=\"text-align: right;\">\n",
       "      <th></th>\n",
       "      <th>InvoiceNo</th>\n",
       "      <th>StockCode</th>\n",
       "      <th>Description</th>\n",
       "      <th>Quantity</th>\n",
       "      <th>InvoiceDate</th>\n",
       "      <th>UnitPrice</th>\n",
       "      <th>CustomerID</th>\n",
       "      <th>Country</th>\n",
       "    </tr>\n",
       "  </thead>\n",
       "  <tbody>\n",
       "    <tr>\n",
       "      <th>0</th>\n",
       "      <td>6141</td>\n",
       "      <td>1583</td>\n",
       "      <td>144</td>\n",
       "      <td>3</td>\n",
       "      <td>06-05-2011 16:54</td>\n",
       "      <td>3.75</td>\n",
       "      <td>14056</td>\n",
       "      <td>35</td>\n",
       "    </tr>\n",
       "    <tr>\n",
       "      <th>1</th>\n",
       "      <td>6349</td>\n",
       "      <td>1300</td>\n",
       "      <td>3682</td>\n",
       "      <td>6</td>\n",
       "      <td>11-05-2011 07:35</td>\n",
       "      <td>1.95</td>\n",
       "      <td>13098</td>\n",
       "      <td>35</td>\n",
       "    </tr>\n",
       "    <tr>\n",
       "      <th>2</th>\n",
       "      <td>16783</td>\n",
       "      <td>2178</td>\n",
       "      <td>1939</td>\n",
       "      <td>4</td>\n",
       "      <td>20-11-2011 13:20</td>\n",
       "      <td>5.95</td>\n",
       "      <td>15044</td>\n",
       "      <td>35</td>\n",
       "    </tr>\n",
       "    <tr>\n",
       "      <th>3</th>\n",
       "      <td>16971</td>\n",
       "      <td>2115</td>\n",
       "      <td>2983</td>\n",
       "      <td>1</td>\n",
       "      <td>22-11-2011 12:07</td>\n",
       "      <td>0.83</td>\n",
       "      <td>15525</td>\n",
       "      <td>35</td>\n",
       "    </tr>\n",
       "    <tr>\n",
       "      <th>4</th>\n",
       "      <td>6080</td>\n",
       "      <td>1210</td>\n",
       "      <td>2886</td>\n",
       "      <td>12</td>\n",
       "      <td>06-05-2011 09:00</td>\n",
       "      <td>1.65</td>\n",
       "      <td>13952</td>\n",
       "      <td>35</td>\n",
       "    </tr>\n",
       "  </tbody>\n",
       "</table>\n",
       "</div>"
      ],
      "text/plain": [
       "   InvoiceNo  StockCode  Description  Quantity       InvoiceDate  UnitPrice  \\\n",
       "0       6141       1583          144         3  06-05-2011 16:54       3.75   \n",
       "1       6349       1300         3682         6  11-05-2011 07:35       1.95   \n",
       "2      16783       2178         1939         4  20-11-2011 13:20       5.95   \n",
       "3      16971       2115         2983         1  22-11-2011 12:07       0.83   \n",
       "4       6080       1210         2886        12  06-05-2011 09:00       1.65   \n",
       "\n",
       "   CustomerID  Country  \n",
       "0       14056       35  \n",
       "1       13098       35  \n",
       "2       15044       35  \n",
       "3       15525       35  \n",
       "4       13952       35  "
      ]
     },
     "execution_count": 163,
     "metadata": {},
     "output_type": "execute_result"
    }
   ],
   "source": [
    "train_raw.head()"
   ]
  },
  {
   "cell_type": "code",
   "execution_count": 164,
   "metadata": {},
   "outputs": [],
   "source": [
    "train_raw.drop(['InvoiceDate'],1,inplace = True)"
   ]
  },
  {
   "cell_type": "code",
   "execution_count": 165,
   "metadata": {},
   "outputs": [
    {
     "data": {
      "text/html": [
       "<div>\n",
       "<style scoped>\n",
       "    .dataframe tbody tr th:only-of-type {\n",
       "        vertical-align: middle;\n",
       "    }\n",
       "\n",
       "    .dataframe tbody tr th {\n",
       "        vertical-align: top;\n",
       "    }\n",
       "\n",
       "    .dataframe thead th {\n",
       "        text-align: right;\n",
       "    }\n",
       "</style>\n",
       "<table border=\"1\" class=\"dataframe\">\n",
       "  <thead>\n",
       "    <tr style=\"text-align: right;\">\n",
       "      <th></th>\n",
       "      <th>InvoiceNo</th>\n",
       "      <th>StockCode</th>\n",
       "      <th>Description</th>\n",
       "      <th>Quantity</th>\n",
       "      <th>UnitPrice</th>\n",
       "      <th>CustomerID</th>\n",
       "      <th>Country</th>\n",
       "    </tr>\n",
       "  </thead>\n",
       "  <tbody>\n",
       "    <tr>\n",
       "      <th>0</th>\n",
       "      <td>6141</td>\n",
       "      <td>1583</td>\n",
       "      <td>144</td>\n",
       "      <td>3</td>\n",
       "      <td>3.75</td>\n",
       "      <td>14056</td>\n",
       "      <td>35</td>\n",
       "    </tr>\n",
       "    <tr>\n",
       "      <th>1</th>\n",
       "      <td>6349</td>\n",
       "      <td>1300</td>\n",
       "      <td>3682</td>\n",
       "      <td>6</td>\n",
       "      <td>1.95</td>\n",
       "      <td>13098</td>\n",
       "      <td>35</td>\n",
       "    </tr>\n",
       "    <tr>\n",
       "      <th>2</th>\n",
       "      <td>16783</td>\n",
       "      <td>2178</td>\n",
       "      <td>1939</td>\n",
       "      <td>4</td>\n",
       "      <td>5.95</td>\n",
       "      <td>15044</td>\n",
       "      <td>35</td>\n",
       "    </tr>\n",
       "    <tr>\n",
       "      <th>3</th>\n",
       "      <td>16971</td>\n",
       "      <td>2115</td>\n",
       "      <td>2983</td>\n",
       "      <td>1</td>\n",
       "      <td>0.83</td>\n",
       "      <td>15525</td>\n",
       "      <td>35</td>\n",
       "    </tr>\n",
       "    <tr>\n",
       "      <th>4</th>\n",
       "      <td>6080</td>\n",
       "      <td>1210</td>\n",
       "      <td>2886</td>\n",
       "      <td>12</td>\n",
       "      <td>1.65</td>\n",
       "      <td>13952</td>\n",
       "      <td>35</td>\n",
       "    </tr>\n",
       "  </tbody>\n",
       "</table>\n",
       "</div>"
      ],
      "text/plain": [
       "   InvoiceNo  StockCode  Description  Quantity  UnitPrice  CustomerID  Country\n",
       "0       6141       1583          144         3       3.75       14056       35\n",
       "1       6349       1300         3682         6       1.95       13098       35\n",
       "2      16783       2178         1939         4       5.95       15044       35\n",
       "3      16971       2115         2983         1       0.83       15525       35\n",
       "4       6080       1210         2886        12       1.65       13952       35"
      ]
     },
     "execution_count": 165,
     "metadata": {},
     "output_type": "execute_result"
    }
   ],
   "source": [
    "train_raw.head()"
   ]
  },
  {
   "cell_type": "code",
   "execution_count": 166,
   "metadata": {},
   "outputs": [
    {
     "data": {
      "text/plain": [
       "InvoiceNo\n",
       "0         23.98\n",
       "1          1.85\n",
       "2         51.64\n",
       "3         19.10\n",
       "4          5.95\n",
       "          ...  \n",
       "22184      2.08\n",
       "22185      2.08\n",
       "22186      2.78\n",
       "22187    224.69\n",
       "22188     10.95\n",
       "Name: UnitPrice, Length: 20971, dtype: float64"
      ]
     },
     "execution_count": 166,
     "metadata": {},
     "output_type": "execute_result"
    }
   ],
   "source": [
    "train_raw.groupby(['InvoiceNo'])['UnitPrice'].sum()"
   ]
  },
  {
   "cell_type": "code",
   "execution_count": 167,
   "metadata": {},
   "outputs": [],
   "source": [
    "#plt.figure(figsize=(12,12))\n",
    "#sns.pairplot(train_raw)"
   ]
  },
  {
   "cell_type": "code",
   "execution_count": 168,
   "metadata": {},
   "outputs": [
    {
     "data": {
      "text/plain": [
       "<AxesSubplot:>"
      ]
     },
     "execution_count": 168,
     "metadata": {},
     "output_type": "execute_result"
    },
    {
     "data": {
      "image/png": "[encoded data removed]",
      "text/plain": [
       "<Figure size 432x288 with 2 Axes>"
      ]
     },
     "metadata": {
      "needs_background": "light"
     },
     "output_type": "display_data"
    }
   ],
   "source": [
    "sns.heatmap(train_raw.corr())"
   ]
  },
  {
   "cell_type": "code",
   "execution_count": 169,
   "metadata": {},
   "outputs": [
    {
     "data": {
      "text/html": [
       "<div>\n",
       "<style scoped>\n",
       "    .dataframe tbody tr th:only-of-type {\n",
       "        vertical-align: middle;\n",
       "    }\n",
       "\n",
       "    .dataframe tbody tr th {\n",
       "        vertical-align: top;\n",
       "    }\n",
       "\n",
       "    .dataframe thead th {\n",
       "        text-align: right;\n",
       "    }\n",
       "</style>\n",
       "<table border=\"1\" class=\"dataframe\">\n",
       "  <thead>\n",
       "    <tr style=\"text-align: right;\">\n",
       "      <th></th>\n",
       "      <th>InvoiceNo</th>\n",
       "      <th>StockCode</th>\n",
       "      <th>Description</th>\n",
       "      <th>Quantity</th>\n",
       "      <th>UnitPrice</th>\n",
       "      <th>CustomerID</th>\n",
       "      <th>Country</th>\n",
       "    </tr>\n",
       "  </thead>\n",
       "  <tbody>\n",
       "    <tr>\n",
       "      <th>InvoiceNo</th>\n",
       "      <td>1.000000</td>\n",
       "      <td>0.086670</td>\n",
       "      <td>0.024444</td>\n",
       "      <td>-0.008362</td>\n",
       "      <td>0.007998</td>\n",
       "      <td>-0.007367</td>\n",
       "      <td>0.005277</td>\n",
       "    </tr>\n",
       "    <tr>\n",
       "      <th>StockCode</th>\n",
       "      <td>0.086670</td>\n",
       "      <td>1.000000</td>\n",
       "      <td>-0.013277</td>\n",
       "      <td>-0.000987</td>\n",
       "      <td>0.020139</td>\n",
       "      <td>0.003348</td>\n",
       "      <td>0.006333</td>\n",
       "    </tr>\n",
       "    <tr>\n",
       "      <th>Description</th>\n",
       "      <td>0.024444</td>\n",
       "      <td>-0.013277</td>\n",
       "      <td>1.000000</td>\n",
       "      <td>0.000193</td>\n",
       "      <td>-0.000416</td>\n",
       "      <td>-0.005036</td>\n",
       "      <td>-0.014644</td>\n",
       "    </tr>\n",
       "    <tr>\n",
       "      <th>Quantity</th>\n",
       "      <td>-0.008362</td>\n",
       "      <td>-0.000987</td>\n",
       "      <td>0.000193</td>\n",
       "      <td>1.000000</td>\n",
       "      <td>-0.000926</td>\n",
       "      <td>-0.002839</td>\n",
       "      <td>-0.007925</td>\n",
       "    </tr>\n",
       "    <tr>\n",
       "      <th>UnitPrice</th>\n",
       "      <td>0.007998</td>\n",
       "      <td>0.020139</td>\n",
       "      <td>-0.000416</td>\n",
       "      <td>-0.000926</td>\n",
       "      <td>1.000000</td>\n",
       "      <td>-0.004917</td>\n",
       "      <td>-0.005348</td>\n",
       "    </tr>\n",
       "    <tr>\n",
       "      <th>CustomerID</th>\n",
       "      <td>-0.007367</td>\n",
       "      <td>0.003348</td>\n",
       "      <td>-0.005036</td>\n",
       "      <td>-0.002839</td>\n",
       "      <td>-0.004917</td>\n",
       "      <td>1.000000</td>\n",
       "      <td>0.388989</td>\n",
       "    </tr>\n",
       "    <tr>\n",
       "      <th>Country</th>\n",
       "      <td>0.005277</td>\n",
       "      <td>0.006333</td>\n",
       "      <td>-0.014644</td>\n",
       "      <td>-0.007925</td>\n",
       "      <td>-0.005348</td>\n",
       "      <td>0.388989</td>\n",
       "      <td>1.000000</td>\n",
       "    </tr>\n",
       "  </tbody>\n",
       "</table>\n",
       "</div>"
      ],
      "text/plain": [
       "             InvoiceNo  StockCode  Description  Quantity  UnitPrice  \\\n",
       "InvoiceNo     1.000000   0.086670     0.024444 -0.008362   0.007998   \n",
       "StockCode     0.086670   1.000000    -0.013277 -0.000987   0.020139   \n",
       "Description   0.024444  -0.013277     1.000000  0.000193  -0.000416   \n",
       "Quantity     -0.008362  -0.000987     0.000193  1.000000  -0.000926   \n",
       "UnitPrice     0.007998   0.020139    -0.000416 -0.000926   1.000000   \n",
       "CustomerID   -0.007367   0.003348    -0.005036 -0.002839  -0.004917   \n",
       "Country       0.005277   0.006333    -0.014644 -0.007925  -0.005348   \n",
       "\n",
       "             CustomerID   Country  \n",
       "InvoiceNo     -0.007367  0.005277  \n",
       "StockCode      0.003348  0.006333  \n",
       "Description   -0.005036 -0.014644  \n",
       "Quantity      -0.002839 -0.007925  \n",
       "UnitPrice     -0.004917 -0.005348  \n",
       "CustomerID     1.000000  0.388989  \n",
       "Country        0.388989  1.000000  "
      ]
     },
     "execution_count": 169,
     "metadata": {},
     "output_type": "execute_result"
    }
   ],
   "source": [
    "train_raw.corr()"
   ]
  },
  {
   "cell_type": "code",
   "execution_count": 170,
   "metadata": {},
   "outputs": [
    {
     "data": {
      "image/png": "[encoded data removed]",
      "text/plain": [
       "<Figure size 432x288 with 1 Axes>"
      ]
     },
     "metadata": {
      "needs_background": "light"
     },
     "output_type": "display_data"
    },
    {
     "data": {
      "image/png": "[encoded data removed]",
      "text/plain": [
       "<Figure size 432x288 with 1 Axes>"
      ]
     },
     "metadata": {
      "needs_background": "light"
     },
     "output_type": "display_data"
    }
   ],
   "source": [
    "plt.show(sns.boxplot(train_raw['Quantity']))\n",
    "plt.show(sns.boxplot(train_raw['UnitPrice']))"
   ]
  },
  {
   "cell_type": "code",
   "execution_count": 171,
   "metadata": {},
   "outputs": [
    {
     "data": {
      "text/plain": [
       "901.5013124259513"
      ]
     },
     "execution_count": 171,
     "metadata": {},
     "output_type": "execute_result"
    }
   ],
   "source": [
    "quantity_cutoff = train_raw['Quantity'].mean() + 3*train_raw['Quantity'].std()\n",
    "quantity_cutoff"
   ]
  },
  {
   "cell_type": "code",
   "execution_count": 172,
   "metadata": {},
   "outputs": [
    {
     "data": {
      "text/html": [
       "<div>\n",
       "<style scoped>\n",
       "    .dataframe tbody tr th:only-of-type {\n",
       "        vertical-align: middle;\n",
       "    }\n",
       "\n",
       "    .dataframe tbody tr th {\n",
       "        vertical-align: top;\n",
       "    }\n",
       "\n",
       "    .dataframe thead th {\n",
       "        text-align: right;\n",
       "    }\n",
       "</style>\n",
       "<table border=\"1\" class=\"dataframe\">\n",
       "  <thead>\n",
       "    <tr style=\"text-align: right;\">\n",
       "      <th></th>\n",
       "      <th>InvoiceNo</th>\n",
       "      <th>StockCode</th>\n",
       "      <th>Description</th>\n",
       "      <th>Quantity</th>\n",
       "      <th>UnitPrice</th>\n",
       "      <th>CustomerID</th>\n",
       "      <th>Country</th>\n",
       "    </tr>\n",
       "  </thead>\n",
       "  <tbody>\n",
       "    <tr>\n",
       "      <th>0</th>\n",
       "      <td>6141</td>\n",
       "      <td>1583</td>\n",
       "      <td>144</td>\n",
       "      <td>3</td>\n",
       "      <td>3.75</td>\n",
       "      <td>14056</td>\n",
       "      <td>35</td>\n",
       "    </tr>\n",
       "    <tr>\n",
       "      <th>1</th>\n",
       "      <td>6349</td>\n",
       "      <td>1300</td>\n",
       "      <td>3682</td>\n",
       "      <td>6</td>\n",
       "      <td>1.95</td>\n",
       "      <td>13098</td>\n",
       "      <td>35</td>\n",
       "    </tr>\n",
       "    <tr>\n",
       "      <th>2</th>\n",
       "      <td>16783</td>\n",
       "      <td>2178</td>\n",
       "      <td>1939</td>\n",
       "      <td>4</td>\n",
       "      <td>5.95</td>\n",
       "      <td>15044</td>\n",
       "      <td>35</td>\n",
       "    </tr>\n",
       "    <tr>\n",
       "      <th>3</th>\n",
       "      <td>16971</td>\n",
       "      <td>2115</td>\n",
       "      <td>2983</td>\n",
       "      <td>1</td>\n",
       "      <td>0.83</td>\n",
       "      <td>15525</td>\n",
       "      <td>35</td>\n",
       "    </tr>\n",
       "    <tr>\n",
       "      <th>4</th>\n",
       "      <td>6080</td>\n",
       "      <td>1210</td>\n",
       "      <td>2886</td>\n",
       "      <td>12</td>\n",
       "      <td>1.65</td>\n",
       "      <td>13952</td>\n",
       "      <td>35</td>\n",
       "    </tr>\n",
       "    <tr>\n",
       "      <th>...</th>\n",
       "      <td>...</td>\n",
       "      <td>...</td>\n",
       "      <td>...</td>\n",
       "      <td>...</td>\n",
       "      <td>...</td>\n",
       "      <td>...</td>\n",
       "      <td>...</td>\n",
       "    </tr>\n",
       "    <tr>\n",
       "      <th>284775</th>\n",
       "      <td>3408</td>\n",
       "      <td>1706</td>\n",
       "      <td>1081</td>\n",
       "      <td>6</td>\n",
       "      <td>1.65</td>\n",
       "      <td>17965</td>\n",
       "      <td>35</td>\n",
       "    </tr>\n",
       "    <tr>\n",
       "      <th>284776</th>\n",
       "      <td>13982</td>\n",
       "      <td>2184</td>\n",
       "      <td>2947</td>\n",
       "      <td>16</td>\n",
       "      <td>0.65</td>\n",
       "      <td>16793</td>\n",
       "      <td>35</td>\n",
       "    </tr>\n",
       "    <tr>\n",
       "      <th>284777</th>\n",
       "      <td>6641</td>\n",
       "      <td>667</td>\n",
       "      <td>3632</td>\n",
       "      <td>4</td>\n",
       "      <td>8.50</td>\n",
       "      <td>14755</td>\n",
       "      <td>35</td>\n",
       "    </tr>\n",
       "    <tr>\n",
       "      <th>284778</th>\n",
       "      <td>13820</td>\n",
       "      <td>1576</td>\n",
       "      <td>3089</td>\n",
       "      <td>48</td>\n",
       "      <td>3.45</td>\n",
       "      <td>14866</td>\n",
       "      <td>35</td>\n",
       "    </tr>\n",
       "    <tr>\n",
       "      <th>284779</th>\n",
       "      <td>11042</td>\n",
       "      <td>2603</td>\n",
       "      <td>1156</td>\n",
       "      <td>2</td>\n",
       "      <td>0.75</td>\n",
       "      <td>17585</td>\n",
       "      <td>35</td>\n",
       "    </tr>\n",
       "  </tbody>\n",
       "</table>\n",
       "<p>282069 rows × 7 columns</p>\n",
       "</div>"
      ],
      "text/plain": [
       "        InvoiceNo  StockCode  Description  Quantity  UnitPrice  CustomerID  \\\n",
       "0            6141       1583          144         3       3.75       14056   \n",
       "1            6349       1300         3682         6       1.95       13098   \n",
       "2           16783       2178         1939         4       5.95       15044   \n",
       "3           16971       2115         2983         1       0.83       15525   \n",
       "4            6080       1210         2886        12       1.65       13952   \n",
       "...           ...        ...          ...       ...        ...         ...   \n",
       "284775       3408       1706         1081         6       1.65       17965   \n",
       "284776      13982       2184         2947        16       0.65       16793   \n",
       "284777       6641        667         3632         4       8.50       14755   \n",
       "284778      13820       1576         3089        48       3.45       14866   \n",
       "284779      11042       2603         1156         2       0.75       17585   \n",
       "\n",
       "        Country  \n",
       "0            35  \n",
       "1            35  \n",
       "2            35  \n",
       "3            35  \n",
       "4            35  \n",
       "...         ...  \n",
       "284775       35  \n",
       "284776       35  \n",
       "284777       35  \n",
       "284778       35  \n",
       "284779       35  \n",
       "\n",
       "[282069 rows x 7 columns]"
      ]
     },
     "execution_count": 172,
     "metadata": {},
     "output_type": "execute_result"
    }
   ],
   "source": [
    "train_raw = train_raw[train_raw['Quantity'] < quantity_cutoff]\n",
    "train_raw"
   ]
  },
  {
   "cell_type": "code",
   "execution_count": 173,
   "metadata": {},
   "outputs": [
    {
     "data": {
      "text/plain": [
       "15.0"
      ]
     },
     "execution_count": 173,
     "metadata": {},
     "output_type": "execute_result"
    }
   ],
   "source": [
    "unitprice_cutoff = train_raw['UnitPrice'].quantile(0.99)\n",
    "unitprice_cutoff"
   ]
  },
  {
   "cell_type": "code",
   "execution_count": 174,
   "metadata": {},
   "outputs": [
    {
     "data": {
      "text/html": [
       "<div>\n",
       "<style scoped>\n",
       "    .dataframe tbody tr th:only-of-type {\n",
       "        vertical-align: middle;\n",
       "    }\n",
       "\n",
       "    .dataframe tbody tr th {\n",
       "        vertical-align: top;\n",
       "    }\n",
       "\n",
       "    .dataframe thead th {\n",
       "        text-align: right;\n",
       "    }\n",
       "</style>\n",
       "<table border=\"1\" class=\"dataframe\">\n",
       "  <thead>\n",
       "    <tr style=\"text-align: right;\">\n",
       "      <th></th>\n",
       "      <th>InvoiceNo</th>\n",
       "      <th>StockCode</th>\n",
       "      <th>Description</th>\n",
       "      <th>Quantity</th>\n",
       "      <th>UnitPrice</th>\n",
       "      <th>CustomerID</th>\n",
       "      <th>Country</th>\n",
       "    </tr>\n",
       "  </thead>\n",
       "  <tbody>\n",
       "    <tr>\n",
       "      <th>0</th>\n",
       "      <td>6141</td>\n",
       "      <td>1583</td>\n",
       "      <td>144</td>\n",
       "      <td>3</td>\n",
       "      <td>3.75</td>\n",
       "      <td>14056</td>\n",
       "      <td>35</td>\n",
       "    </tr>\n",
       "    <tr>\n",
       "      <th>1</th>\n",
       "      <td>6349</td>\n",
       "      <td>1300</td>\n",
       "      <td>3682</td>\n",
       "      <td>6</td>\n",
       "      <td>1.95</td>\n",
       "      <td>13098</td>\n",
       "      <td>35</td>\n",
       "    </tr>\n",
       "    <tr>\n",
       "      <th>2</th>\n",
       "      <td>16783</td>\n",
       "      <td>2178</td>\n",
       "      <td>1939</td>\n",
       "      <td>4</td>\n",
       "      <td>5.95</td>\n",
       "      <td>15044</td>\n",
       "      <td>35</td>\n",
       "    </tr>\n",
       "    <tr>\n",
       "      <th>3</th>\n",
       "      <td>16971</td>\n",
       "      <td>2115</td>\n",
       "      <td>2983</td>\n",
       "      <td>1</td>\n",
       "      <td>0.83</td>\n",
       "      <td>15525</td>\n",
       "      <td>35</td>\n",
       "    </tr>\n",
       "    <tr>\n",
       "      <th>4</th>\n",
       "      <td>6080</td>\n",
       "      <td>1210</td>\n",
       "      <td>2886</td>\n",
       "      <td>12</td>\n",
       "      <td>1.65</td>\n",
       "      <td>13952</td>\n",
       "      <td>35</td>\n",
       "    </tr>\n",
       "    <tr>\n",
       "      <th>...</th>\n",
       "      <td>...</td>\n",
       "      <td>...</td>\n",
       "      <td>...</td>\n",
       "      <td>...</td>\n",
       "      <td>...</td>\n",
       "      <td>...</td>\n",
       "      <td>...</td>\n",
       "    </tr>\n",
       "    <tr>\n",
       "      <th>284775</th>\n",
       "      <td>3408</td>\n",
       "      <td>1706</td>\n",
       "      <td>1081</td>\n",
       "      <td>6</td>\n",
       "      <td>1.65</td>\n",
       "      <td>17965</td>\n",
       "      <td>35</td>\n",
       "    </tr>\n",
       "    <tr>\n",
       "      <th>284776</th>\n",
       "      <td>13982</td>\n",
       "      <td>2184</td>\n",
       "      <td>2947</td>\n",
       "      <td>16</td>\n",
       "      <td>0.65</td>\n",
       "      <td>16793</td>\n",
       "      <td>35</td>\n",
       "    </tr>\n",
       "    <tr>\n",
       "      <th>284777</th>\n",
       "      <td>6641</td>\n",
       "      <td>667</td>\n",
       "      <td>3632</td>\n",
       "      <td>4</td>\n",
       "      <td>8.50</td>\n",
       "      <td>14755</td>\n",
       "      <td>35</td>\n",
       "    </tr>\n",
       "    <tr>\n",
       "      <th>284778</th>\n",
       "      <td>13820</td>\n",
       "      <td>1576</td>\n",
       "      <td>3089</td>\n",
       "      <td>48</td>\n",
       "      <td>3.45</td>\n",
       "      <td>14866</td>\n",
       "      <td>35</td>\n",
       "    </tr>\n",
       "    <tr>\n",
       "      <th>284779</th>\n",
       "      <td>11042</td>\n",
       "      <td>2603</td>\n",
       "      <td>1156</td>\n",
       "      <td>2</td>\n",
       "      <td>0.75</td>\n",
       "      <td>17585</td>\n",
       "      <td>35</td>\n",
       "    </tr>\n",
       "  </tbody>\n",
       "</table>\n",
       "<p>279350 rows × 7 columns</p>\n",
       "</div>"
      ],
      "text/plain": [
       "        InvoiceNo  StockCode  Description  Quantity  UnitPrice  CustomerID  \\\n",
       "0            6141       1583          144         3       3.75       14056   \n",
       "1            6349       1300         3682         6       1.95       13098   \n",
       "2           16783       2178         1939         4       5.95       15044   \n",
       "3           16971       2115         2983         1       0.83       15525   \n",
       "4            6080       1210         2886        12       1.65       13952   \n",
       "...           ...        ...          ...       ...        ...         ...   \n",
       "284775       3408       1706         1081         6       1.65       17965   \n",
       "284776      13982       2184         2947        16       0.65       16793   \n",
       "284777       6641        667         3632         4       8.50       14755   \n",
       "284778      13820       1576         3089        48       3.45       14866   \n",
       "284779      11042       2603         1156         2       0.75       17585   \n",
       "\n",
       "        Country  \n",
       "0            35  \n",
       "1            35  \n",
       "2            35  \n",
       "3            35  \n",
       "4            35  \n",
       "...         ...  \n",
       "284775       35  \n",
       "284776       35  \n",
       "284777       35  \n",
       "284778       35  \n",
       "284779       35  \n",
       "\n",
       "[279350 rows x 7 columns]"
      ]
     },
     "execution_count": 174,
     "metadata": {},
     "output_type": "execute_result"
    }
   ],
   "source": [
    "train_raw = train_raw[train_raw['UnitPrice'] <= unitprice_cutoff]\n",
    "train_raw"
   ]
  },
  {
   "cell_type": "code",
   "execution_count": 175,
   "metadata": {},
   "outputs": [
    {
     "data": {
      "text/plain": [
       "12.75"
      ]
     },
     "execution_count": 175,
     "metadata": {},
     "output_type": "execute_result"
    }
   ],
   "source": [
    "train_raw['UnitPrice'].quantile(0.99)"
   ]
  },
  {
   "cell_type": "code",
   "execution_count": 176,
   "metadata": {},
   "outputs": [
    {
     "data": {
      "image/png": "[encoded data removed]",
      "text/plain": [
       "<Figure size 432x288 with 1 Axes>"
      ]
     },
     "metadata": {
      "needs_background": "light"
     },
     "output_type": "display_data"
    }
   ],
   "source": [
    "plt.show(sns.boxplot(train_raw['UnitPrice']))"
   ]
  },
  {
   "cell_type": "code",
   "execution_count": null,
   "metadata": {},
   "outputs": [],
   "source": []
  },
  {
   "cell_type": "code",
   "execution_count": 177,
   "metadata": {},
   "outputs": [],
   "source": [
    "train_raw.drop(list(train_raw[train_raw['Quantity']<0].index),inplace = True)"
   ]
  },
  {
   "cell_type": "code",
   "execution_count": 178,
   "metadata": {},
   "outputs": [
    {
     "data": {
      "text/plain": [
       "count    273452.000000\n",
       "mean         12.233372\n",
       "std          30.564162\n",
       "min           1.000000\n",
       "25%           2.000000\n",
       "50%           6.000000\n",
       "75%          12.000000\n",
       "max         900.000000\n",
       "Name: Quantity, dtype: float64"
      ]
     },
     "execution_count": 178,
     "metadata": {},
     "output_type": "execute_result"
    }
   ],
   "source": [
    "train_raw['Quantity'].describe()"
   ]
  },
  {
   "cell_type": "code",
   "execution_count": 179,
   "metadata": {},
   "outputs": [
    {
     "data": {
      "image/png": "[encoded data removed]",
      "text/plain": [
       "<Figure size 432x288 with 1 Axes>"
      ]
     },
     "metadata": {
      "needs_background": "light"
     },
     "output_type": "display_data"
    }
   ],
   "source": [
    "plt.show(sns.boxplot(train_raw['Quantity']))"
   ]
  },
  {
   "cell_type": "code",
   "execution_count": 180,
   "metadata": {},
   "outputs": [
    {
     "data": {
      "image/png": "[encoded data removed]",
      "text/plain": [
       "<Figure size 432x288 with 1 Axes>"
      ]
     },
     "metadata": {
      "needs_background": "light"
     },
     "output_type": "display_data"
    }
   ],
   "source": [
    "plt.show(sns.boxplot(train_raw['UnitPrice']))"
   ]
  },
  {
   "cell_type": "code",
   "execution_count": 181,
   "metadata": {},
   "outputs": [
    {
     "data": {
      "text/plain": [
       "(273452, 7)"
      ]
     },
     "execution_count": 181,
     "metadata": {},
     "output_type": "execute_result"
    }
   ],
   "source": [
    "train_raw.shape"
   ]
  },
  {
   "cell_type": "code",
   "execution_count": 182,
   "metadata": {},
   "outputs": [
    {
     "data": {
      "text/html": [
       "<div>\n",
       "<style scoped>\n",
       "    .dataframe tbody tr th:only-of-type {\n",
       "        vertical-align: middle;\n",
       "    }\n",
       "\n",
       "    .dataframe tbody tr th {\n",
       "        vertical-align: top;\n",
       "    }\n",
       "\n",
       "    .dataframe thead th {\n",
       "        text-align: right;\n",
       "    }\n",
       "</style>\n",
       "<table border=\"1\" class=\"dataframe\">\n",
       "  <thead>\n",
       "    <tr style=\"text-align: right;\">\n",
       "      <th></th>\n",
       "      <th>InvoiceNo</th>\n",
       "      <th>StockCode</th>\n",
       "      <th>Description</th>\n",
       "      <th>Quantity</th>\n",
       "      <th>UnitPrice</th>\n",
       "      <th>CustomerID</th>\n",
       "      <th>Country</th>\n",
       "    </tr>\n",
       "  </thead>\n",
       "  <tbody>\n",
       "    <tr>\n",
       "      <th>0</th>\n",
       "      <td>6141</td>\n",
       "      <td>1583</td>\n",
       "      <td>144</td>\n",
       "      <td>3</td>\n",
       "      <td>3.75</td>\n",
       "      <td>14056</td>\n",
       "      <td>35</td>\n",
       "    </tr>\n",
       "    <tr>\n",
       "      <th>1</th>\n",
       "      <td>6349</td>\n",
       "      <td>1300</td>\n",
       "      <td>3682</td>\n",
       "      <td>6</td>\n",
       "      <td>1.95</td>\n",
       "      <td>13098</td>\n",
       "      <td>35</td>\n",
       "    </tr>\n",
       "    <tr>\n",
       "      <th>2</th>\n",
       "      <td>16783</td>\n",
       "      <td>2178</td>\n",
       "      <td>1939</td>\n",
       "      <td>4</td>\n",
       "      <td>5.95</td>\n",
       "      <td>15044</td>\n",
       "      <td>35</td>\n",
       "    </tr>\n",
       "    <tr>\n",
       "      <th>3</th>\n",
       "      <td>16971</td>\n",
       "      <td>2115</td>\n",
       "      <td>2983</td>\n",
       "      <td>1</td>\n",
       "      <td>0.83</td>\n",
       "      <td>15525</td>\n",
       "      <td>35</td>\n",
       "    </tr>\n",
       "    <tr>\n",
       "      <th>4</th>\n",
       "      <td>6080</td>\n",
       "      <td>1210</td>\n",
       "      <td>2886</td>\n",
       "      <td>12</td>\n",
       "      <td>1.65</td>\n",
       "      <td>13952</td>\n",
       "      <td>35</td>\n",
       "    </tr>\n",
       "  </tbody>\n",
       "</table>\n",
       "</div>"
      ],
      "text/plain": [
       "   InvoiceNo  StockCode  Description  Quantity  UnitPrice  CustomerID  Country\n",
       "0       6141       1583          144         3       3.75       14056       35\n",
       "1       6349       1300         3682         6       1.95       13098       35\n",
       "2      16783       2178         1939         4       5.95       15044       35\n",
       "3      16971       2115         2983         1       0.83       15525       35\n",
       "4       6080       1210         2886        12       1.65       13952       35"
      ]
     },
     "execution_count": 182,
     "metadata": {},
     "output_type": "execute_result"
    }
   ],
   "source": [
    "train_raw.head()"
   ]
  },
  {
   "cell_type": "code",
   "execution_count": 183,
   "metadata": {},
   "outputs": [],
   "source": [
    "target = train_raw['UnitPrice']\n",
    "train_raw.drop(['UnitPrice'],1,inplace = True)"
   ]
  },
  {
   "cell_type": "code",
   "execution_count": 184,
   "metadata": {},
   "outputs": [],
   "source": [
    "from sklearn.model_selection import train_test_split\n",
    "X_train, X_test, y_train, y_test = train_test_split(train_raw,target,test_size = 0.3, random_state = 42)"
   ]
  },
  {
   "cell_type": "code",
   "execution_count": 185,
   "metadata": {},
   "outputs": [
    {
     "data": {
      "text/html": [
       "<div>\n",
       "<style scoped>\n",
       "    .dataframe tbody tr th:only-of-type {\n",
       "        vertical-align: middle;\n",
       "    }\n",
       "\n",
       "    .dataframe tbody tr th {\n",
       "        vertical-align: top;\n",
       "    }\n",
       "\n",
       "    .dataframe thead th {\n",
       "        text-align: right;\n",
       "    }\n",
       "</style>\n",
       "<table border=\"1\" class=\"dataframe\">\n",
       "  <thead>\n",
       "    <tr style=\"text-align: right;\">\n",
       "      <th></th>\n",
       "      <th>InvoiceNo</th>\n",
       "      <th>StockCode</th>\n",
       "      <th>Description</th>\n",
       "      <th>Quantity</th>\n",
       "      <th>CustomerID</th>\n",
       "      <th>Country</th>\n",
       "    </tr>\n",
       "  </thead>\n",
       "  <tbody>\n",
       "    <tr>\n",
       "      <th>190494</th>\n",
       "      <td>13383</td>\n",
       "      <td>2101</td>\n",
       "      <td>3019</td>\n",
       "      <td>12</td>\n",
       "      <td>12841</td>\n",
       "      <td>35</td>\n",
       "    </tr>\n",
       "    <tr>\n",
       "      <th>185725</th>\n",
       "      <td>18165</td>\n",
       "      <td>3193</td>\n",
       "      <td>2917</td>\n",
       "      <td>1</td>\n",
       "      <td>14096</td>\n",
       "      <td>35</td>\n",
       "    </tr>\n",
       "    <tr>\n",
       "      <th>101159</th>\n",
       "      <td>13027</td>\n",
       "      <td>1964</td>\n",
       "      <td>1620</td>\n",
       "      <td>4</td>\n",
       "      <td>12957</td>\n",
       "      <td>35</td>\n",
       "    </tr>\n",
       "    <tr>\n",
       "      <th>139122</th>\n",
       "      <td>13201</td>\n",
       "      <td>2101</td>\n",
       "      <td>3019</td>\n",
       "      <td>3</td>\n",
       "      <td>17841</td>\n",
       "      <td>35</td>\n",
       "    </tr>\n",
       "    <tr>\n",
       "      <th>282222</th>\n",
       "      <td>5473</td>\n",
       "      <td>979</td>\n",
       "      <td>102</td>\n",
       "      <td>12</td>\n",
       "      <td>15755</td>\n",
       "      <td>35</td>\n",
       "    </tr>\n",
       "  </tbody>\n",
       "</table>\n",
       "</div>"
      ],
      "text/plain": [
       "        InvoiceNo  StockCode  Description  Quantity  CustomerID  Country\n",
       "190494      13383       2101         3019        12       12841       35\n",
       "185725      18165       3193         2917         1       14096       35\n",
       "101159      13027       1964         1620         4       12957       35\n",
       "139122      13201       2101         3019         3       17841       35\n",
       "282222       5473        979          102        12       15755       35"
      ]
     },
     "execution_count": 185,
     "metadata": {},
     "output_type": "execute_result"
    }
   ],
   "source": [
    "X_train.head()"
   ]
  },
  {
   "cell_type": "code",
   "execution_count": 186,
   "metadata": {},
   "outputs": [],
   "source": [
    "from sklearn.ensemble import RandomForestRegressor\n",
    "\n",
    "import warnings\n",
    "warnings.filterwarnings(\"ignore\")"
   ]
  },
  {
   "cell_type": "code",
   "execution_count": 187,
   "metadata": {},
   "outputs": [],
   "source": [
    "#n_estimators = [int(x) for x in np.linspace(start = 100, stop = 1200, num = 3)]\n",
    "#max_features = ['auto', 'sqrt']\n",
    "#max_depth = [int(x) for x  in np.linspace(start = 5, stop = 30, num= 3)]\n",
    "#min_samples_split = [2,5,10]\n",
    "#min_samples_leaf = [5,10]"
   ]
  },
  {
   "cell_type": "code",
   "execution_count": 156,
   "metadata": {},
   "outputs": [],
   "source": [
    "rf_rand = RandomForestRegressor()\n",
    "#from sklearn.model_selection import RandomizedSearchCV"
   ]
  },
  {
   "cell_type": "code",
   "execution_count": 157,
   "metadata": {},
   "outputs": [
    {
     "name": "stdout",
     "output_type": "stream",
     "text": [
      "{'n_estimators': [100, 650, 1200], 'max_features': ['auto', 'sqrt'], 'max_depth': [5, 17, 30], 'min_samples_split': [2, 5, 10], 'min_samples_leaf': [5, 10]}\n"
     ]
    }
   ],
   "source": [
    "#random_grid = {\"n_estimators\":n_estimators,\n",
    "#              \"max_features\":max_features,\n",
    "#              \"max_depth\":max_depth,\n",
    "#               \"min_samples_split\":min_samples_split,\n",
    "#              \"min_samples_leaf\":min_samples_leaf}\n",
    "#print(random_grid)"
   ]
  },
  {
   "cell_type": "code",
   "execution_count": 192,
   "metadata": {},
   "outputs": [],
   "source": [
    "#rf_model = RandomizedSearchCV(estimator = rf_rand, param_distributions = random_grid, \n",
    "#                   scoring ='neg_mean_squared_error', n_iter = 5, cv = 5, verbose = 2,\n",
    "#                  random_state = 42, n_jobs = 1)\n"
   ]
  },
  {
   "cell_type": "code",
   "execution_count": 190,
   "metadata": {},
   "outputs": [],
   "source": [
    "rf_model = RandomForestRegressor(n_estimators= 500, max_features= 'auto', max_depth = 5, min_samples_split= 5, min_samples_leaf= 5 )"
   ]
  },
  {
   "cell_type": "code",
   "execution_count": 191,
   "metadata": {},
   "outputs": [
    {
     "data": {
      "text/plain": [
       "RandomForestRegressor(max_depth=5, min_samples_leaf=5, min_samples_split=5,\n",
       "                      n_estimators=500)"
      ]
     },
     "execution_count": 191,
     "metadata": {},
     "output_type": "execute_result"
    }
   ],
   "source": [
    "rf_model.fit(X_train,y_train)"
   ]
  },
  {
   "cell_type": "code",
   "execution_count": 193,
   "metadata": {},
   "outputs": [
    {
     "data": {
      "text/plain": [
       "array([3.62623108, 0.93694586, 1.12581177, ..., 3.07637103, 1.470595  ,\n",
       "       1.94123811])"
      ]
     },
     "execution_count": 193,
     "metadata": {},
     "output_type": "execute_result"
    }
   ],
   "source": [
    "predictions = rf_model.predict(X_test)\n",
    "predictions"
   ]
  },
  {
   "cell_type": "code",
   "execution_count": 195,
   "metadata": {},
   "outputs": [
    {
     "data": {
      "text/plain": [
       "<AxesSubplot:xlabel='UnitPrice', ylabel='Density'>"
      ]
     },
     "execution_count": 195,
     "metadata": {},
     "output_type": "execute_result"
    },
    {
     "data": {
      "image/png": "[encoded data removed]",
      "text/plain": [
       "<Figure size 432x288 with 1 Axes>"
      ]
     },
     "metadata": {
      "needs_background": "light"
     },
     "output_type": "display_data"
    }
   ],
   "source": [
    "sns.distplot(y_test-predictions)"
   ]
  },
  {
   "cell_type": "code",
   "execution_count": 196,
   "metadata": {},
   "outputs": [
    {
     "data": {
      "text/plain": [
       "<matplotlib.collections.PathCollection at 0x1c99fc7ae20>"
      ]
     },
     "execution_count": 196,
     "metadata": {},
     "output_type": "execute_result"
    },
    {
     "data": {
      "image/png": "[encoded data removed]",
      "text/plain": [
       "<Figure size 432x288 with 1 Axes>"
      ]
     },
     "metadata": {
      "needs_background": "light"
     },
     "output_type": "display_data"
    }
   ],
   "source": [
    "plt.scatter(y_test, predictions)"
   ]
  },
  {
   "cell_type": "code",
   "execution_count": 198,
   "metadata": {},
   "outputs": [],
   "source": [
    "import pickle\n",
    "file = open('best_regression_model.pkl', 'wb')\n",
    "pickle.dump(rf_model, file)"
   ]
  },
  {
   "cell_type": "code",
   "execution_count": null,
   "metadata": {},
   "outputs": [],
   "source": []
  }
 ],
 "metadata": {
  "kernelspec": {
   "display_name": "Python 3",
   "language": "python",
   "name": "python3"
  },
  "language_info": {
   "codemirror_mode": {
    "name": "ipython",
    "version": 3
   },
   "file_extension": ".py",
   "mimetype": "text/x-python",
   "name": "python",
   "nbconvert_exporter": "python",
   "pygments_lexer": "ipython3",
   "version": "3.8.8"
  }
 },
 "nbformat": 4,
 "nbformat_minor": 4
}
